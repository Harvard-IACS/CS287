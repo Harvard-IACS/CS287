{
 "cells": [
  {
   "cell_type": "code",
   "execution_count": 1,
   "metadata": {},
   "outputs": [
    {
     "data": {
      "text/html": [
       "<style>\n",
       "blockquote { background: #AEDE94; }\n",
       "\n",
       "hr {\n",
       "    height: 1px;\n",
       "    background-color: black;\n",
       "    border: none;\n",
       "}\n",
       "\n",
       "div.quote {\n",
       "\tpadding: 0.5em;\n",
       "\tfont-size: 12px;\n",
       "\talign-items: center;\n",
       "\tmax-width: 80%;\n",
       "\ttext-align: center;\n",
       "}\n",
       "\n",
       "div.header_purple {\n",
       "\tbackground-color: #D0C7FF; \n",
       "\twidth: 100%;\n",
       "\tbox-shadow: 5px 5px 10px 2px #888;\n",
       "\tfont-size: 15px;\n",
       "\tpadding-top: 8px;\n",
       "\tpadding-left: 20px;\n",
       "\tpadding-right: 20px; \n",
       "\tpadding-bottom: 20px;\n",
       "}\n",
       "\n",
       "div.section_purple {\n",
       "\tbackground-color: #D0C7FF; \n",
       "\twidth: 100%;\n",
       "\tfont-size: 15px;\n",
       "\tpadding-top: 2px;\n",
       "\tpadding-left: 20px;\n",
       "\tpadding-right: 20px; \n",
       "\tpadding-bottom: 10px;\n",
       "}\n",
       "\n",
       "div.header_pink {\n",
       "\tbackground-color: #FFC8C8;\n",
       "\twidth: 100%;\n",
       "\tbox-shadow: 5px 5px 10px 2px #888;\n",
       "\tfont-size: 15px;\n",
       "\tpadding-top: 8px;\n",
       "\tpadding-left: 20px;\n",
       "\tpadding-right: 20px; \n",
       "\tpadding-bottom: 20px;\n",
       "}\n",
       "\n",
       "div.q_pink {\n",
       "\tbackground-color: #FFC8C8;\n",
       "\tborder-color: #FF8484;\n",
       "\tborder-left: 5px solid #FF8484; \n",
       "\tpadding: 0.5em;\n",
       "}\n",
       "\n",
       "div.header_yellow {\n",
       "\tbackground-color: #FDFFB6; \n",
       "\twidth: 100%;\n",
       "\tbox-shadow: 5px 5px 10px 2px #888;\n",
       "\tfont-size: 15px;\n",
       "\tpadding-top: 8px;\n",
       "\tpadding-left: 20px;\n",
       "\tpadding-right: 20px; \n",
       "\tpadding-bottom: 20px;\n",
       "}\n",
       "\n",
       "div.section_yellow {\n",
       "\tbackground-color: #FDFFD0; \n",
       "\twidth: 100%;\n",
       "\tfont-size: 15px;\n",
       "\tpadding-top: 2px;\n",
       "\tpadding-left: 20px;\n",
       "\tpadding-right: 20px; \n",
       "\tpadding-bottom: 10px;\n",
       "}\n",
       "\n",
       "div.q_yellow {\n",
       "\tbackground-color: #FDFFD0;\n",
       "\tborder-color: #FFD6A5;\n",
       "\tborder-left: 5px solid #FFD6A5; \n",
       "\tpadding: 0.5em;\n",
       "}\n",
       "\n",
       "div.header_green {\n",
       "\tbackground-color: #CAFFBF; \n",
       "\twidth: 100%;\n",
       "\tbox-shadow: 5px 5px 10px 2px #888;\n",
       "\tfont-size: 15px;\n",
       "\tpadding-top: 8px;\n",
       "\tpadding-left: 20px;\n",
       "\tpadding-right: 20px; \n",
       "\tpadding-bottom: 20px;\n",
       "}\n",
       "\n",
       "div.section_green {\n",
       "\tbackground-color: #CAFFBF; \n",
       "\twidth: 100%;\n",
       "\tfont-size: 15px;\n",
       "\tpadding-top: 2px;\n",
       "\tpadding-left: 20px;\n",
       "\tpadding-right: 20px; \n",
       "\tpadding-bottom: 10px;\n",
       "}\n",
       "\n",
       "div.q_green {\n",
       "\tbackground-color: #CAFFBF;\n",
       "\tborder-color: #98C98E;\n",
       "\tborder-left: 5px solid #98C98E; \n",
       "\tpadding: 0.5em;\n",
       "}\n",
       "\n",
       "\n",
       "div.header_blue {\n",
       "\tbackground-color: #C9FAFF; \n",
       "\twidth: 100%;\n",
       "\tbox-shadow: 5px 5px 10px 2px #888;\n",
       "\tfont-size: 15px;\n",
       "\tpadding-top: 8px;\n",
       "\tpadding-left: 20px;\n",
       "\tpadding-right: 20px; \n",
       "\tpadding-bottom: 20px;\n",
       "}\n",
       "\n",
       "div.q_blue {\n",
       "\tbackground-color: #C9FAFF;\n",
       "\tborder-color: #A0C4FF;\n",
       "\tborder-left: 5px solid #A0C4FF; \n",
       "\tpadding: 0.5em;\n",
       "}\n",
       "\n",
       "\n",
       "h1 {\n",
       "    text-align: left; \n",
       "    color: black;\n",
       "}\n",
       "\n",
       "h2 { \n",
       "    text-align: left; \n",
       "    color: black;\n",
       "}\n",
       "\n",
       "div.exercise {\n",
       "\tbackground-color: #ffcccc;\n",
       "\tborder-color: #E9967A; \t\n",
       "\tborder-left: 5px solid #800080; \n",
       "\tpadding: 0.5em;\n",
       "}\n",
       "\n",
       "div.exercise-r {\n",
       "\tbackground-color: #fce8e8;\n",
       "\tborder-color: #E9967A; \t\n",
       "\tborder-left: 5px solid #800080; \n",
       "\tpadding: 0.5em;\n",
       "}\n",
       "\n",
       "\n",
       "span.sub-q {\n",
       "\tfont-weight: bold;\n",
       "}\n",
       "\n",
       "div.theme {\n",
       "\tbackground-color: #DDDDDD;\n",
       "\tborder-color: #E9967A; \t\n",
       "\tborder-left: 5px solid #800080; \n",
       "\tpadding: 0.5em;\n",
       "\tfont-size: 18pt;\n",
       "}\n",
       "div.gc { \n",
       "\tbackground-color: #AEDE94;\n",
       "\tborder-color: #E9967A; \t \n",
       "\tborder-left: 5px solid #800080; \n",
       "\tpadding: 0.5em;\n",
       "\tfont-size: 12pt;\n",
       "}\n",
       "p.q1 { \n",
       "    padding-top: 5px;\n",
       "    padding-bottom: 5px;\n",
       "    text-align: left; \n",
       "    padding-left: 5px;\n",
       "    background-color: #EEEEEE; \n",
       "    color: black;\n",
       "}\n",
       "</style>\n"
      ],
      "text/plain": [
       "<IPython.core.display.HTML object>"
      ]
     },
     "execution_count": 1,
     "metadata": {},
     "output_type": "execute_result"
    }
   ],
   "source": [
    "################################\n",
    "#        RUN THIS CELL\n",
    "################################\n",
    "from IPython.core.display import HTML\n",
    "HTML(\"style.css\")"
   ]
  },
  {
   "cell_type": "markdown",
   "metadata": {},
   "source": [
    "\n",
    "<div class='header_purple'>\n",
    "\n",
    "# <img style=\"float: left; padding-right: 10px; width: 60px\" src=\"https://raw.githubusercontent.com/Harvard-IACS/2018-CS109A/master/content/styles/iacs.png\"> AC295/CS287: Deep Learning for NLP\n",
    "\n",
    "<br/>\n",
    "<hr color=black>\n",
    "\n",
    "## Homework 0: Pre-requisites check (version 1.0)\n",
    "### THE PURPLE BOOK\n",
    "\n",
    "**Harvard University**<br/>\n",
    "**Fall 2021**<br/>\n",
    "**Instructor**: Chris Tanner<br/>\n",
    "**Release Date**: July 24, 2021<br/>\n",
    "<font color=\"red\">**Due Date**: N/A</font>\n",
    "\n",
    "<hr color=black>\n",
    "<center>\n",
    "<div class='quote'>\n",
    "\n",
    "_\"Yeah, this album is dedicated to all the teachers that told me I'd never amount to nothin' --\n",
    "to all the people that lived above the buildings that I was hustlin' in front of...\n",
    "called the police on me when I was just tryin' to make some money to feed my daughter (it's all good)\"_\n",
    "\n",
    "    Christopher Wallace (August 9, 1994)\n",
    "</div>\n",
    "</center>\n",
    "</div>"
   ]
  },
  {
   "cell_type": "markdown",
   "metadata": {},
   "source": [
    "<div class='header_purple'>\n",
    "    \n",
    "# OVERVIEW\n",
    "\n",
    "</div>\n",
    "<br/>\n",
    "This ungraded homework is purely intended for you to assess if your current knowledge aligns with the expected prerequisites for the course. You should be able to answer these questions without much difficulty. If you are struggling on any question, it doesn't mean you aren't capable of excelling in the course; it simply means you should review that current material more carefully. If you struggle throughout the entire homework:\n",
    "\n",
    "- you'll likely find CS287 to be a bit overwhelming and too time-intensive, especially toward the middle and latter half of the course\n",
    "- CS187 might be a better fit for you\n",
    "\n",
    "Also, **please note that the questions in this homework do not comprise an exhaustive list of the necessary knowledge.** Rather, I am including the most common, fundamental aspects that help determine if you have a solid foundation. Throughout the course, as you complete the homework assignments and your project, small details will arise, whereby it's important for you to feel comfortable with Machine Learning in general. **The pop quizzes and exam will only concern material discussed in lecture.** As a reminder, here are the prerequisites:\n",
    "\n",
    "- **NLP**: No previous experience expected or necessary\n",
    "- **Programming**: at least one class with substantial object-oriented programming\n",
    "- **Math**: basic foundation in probability and calculus (e.g., joint probability, conditional probability, partial derivatives) <font color=\"#7D2790\"><b>STAT 110</b></font> or above is sufficient.\n",
    "- **Machine Learning**: basic knowledge of Machine Learning (e.g., Feed-forward Neural Nets, Backpropagation, what train/dev/test splits are, regularization) Any one of these is sufficient: <font color=\"#D36B21\"><b>CS181</b></font>, <font color=\"#31493C\"><b>MIT’s 6.036</b></font>, <font color=\"#CC30B2\"><b>CS109A</b></font>, or <font color=\"#4B9214\"><b>CS109B</b></font>, etc\n",
    "\n",
    "<div class='header_purple'>\n",
    "    \n",
    "## SUPPORT\n",
    "\n",
    "</div>\n",
    "\n",
    "- please visit [the course website](https://harvard-iacs.github.io/CS287/) for full details of the course.\n",
    "- see my list of [supplemental resources](https://harvard-iacs.github.io/CS287/supplemental) for a wealth of rich information concerning Machine Learning, NLP, and Math."
   ]
  },
  {
   "cell_type": "markdown",
   "metadata": {},
   "source": [
    "<div class='header_yellow'>\n",
    "    \n",
    "# 1. MACHINE LEARNING BASICS\n",
    "\n",
    "</div>\n",
    "<br/>"
   ]
  },
  {
   "cell_type": "markdown",
   "metadata": {},
   "source": [
    "<div class='q_yellow'><b>1.1</b> What does it mean for a model to \"learn\"?</div>\n"
   ]
  },
  {
   "cell_type": "markdown",
   "metadata": {},
   "source": []
  },
  {
   "cell_type": "markdown",
   "metadata": {},
   "source": [
    "<div class='q_yellow'><b>1.2</b> What is a regression problem? What is classification?</div>"
   ]
  },
  {
   "cell_type": "markdown",
   "metadata": {},
   "source": []
  },
  {
   "cell_type": "markdown",
   "metadata": {},
   "source": [
    "<div class='q_yellow'><b>1.3</b> What is supervised learning? What is unsupervised learning?</div>"
   ]
  },
  {
   "cell_type": "markdown",
   "metadata": {},
   "source": []
  },
  {
   "cell_type": "markdown",
   "metadata": {},
   "source": [
    "<div class='q_yellow'><b>1.4</b> Is it possible to use both categorical features/inputs and numerical features/inputs for a given neural net model? If not, why can't we? If so, how might one do such?</div>"
   ]
  },
  {
   "cell_type": "markdown",
   "metadata": {},
   "source": []
  },
  {
   "cell_type": "markdown",
   "metadata": {},
   "source": [
    "<div class='q_yellow'><b>1.5</b> What are train, development (aka dev aka validation), and testing splits?</div>"
   ]
  },
  {
   "cell_type": "markdown",
   "metadata": {},
   "source": []
  },
  {
   "cell_type": "markdown",
   "metadata": {},
   "source": [
    "<div class='q_yellow'><b>1.6</b> Say we've written code for a model $M$, and we have training, dev, and testing data. $M$ has many different hyperparameters which we wish to explore. So, we train our $M$ on the _training_ data many times, each with its own hyperparameter values, and we evaluate each run on the testing set. We report the hyperparameter values that yield the highest performance on the test set. Is this appropriate? Why or why not?\n",
    "</div>"
   ]
  },
  {
   "cell_type": "markdown",
   "metadata": {},
   "source": []
  },
  {
   "cell_type": "markdown",
   "metadata": {},
   "source": [
    "<div class='q_yellow'><b>1.7</b> What is a loss function?\n",
    "\n",
    "- **a.** What are some examples of loss functions?\n",
    "- **b.** When is it appropriate to use MSE vs cross-entropy?\n",
    "</div>"
   ]
  },
  {
   "cell_type": "markdown",
   "metadata": {},
   "source": []
  },
  {
   "cell_type": "markdown",
   "metadata": {},
   "source": [
    "<div class='q_yellow'><b>1.8</b> What does it mean for a loss function to be convex? Is this a desirable property or not? Explain.</div>"
   ]
  },
  {
   "cell_type": "markdown",
   "metadata": {},
   "source": []
  },
  {
   "cell_type": "markdown",
   "metadata": {},
   "source": [
    "<div class='q_yellow'><b>1.9</b> What is gradient descent?</div>"
   ]
  },
  {
   "cell_type": "markdown",
   "metadata": {},
   "source": []
  },
  {
   "cell_type": "markdown",
   "metadata": {},
   "source": [
    "<div class='q_yellow'><b>1.10</b> In practice, what is most common: stochastic gradient descent, mini-batch gradient descent, or batch gradient descent (aka 'gradient descent')? Why?</div>"
   ]
  },
  {
   "cell_type": "markdown",
   "metadata": {},
   "source": []
  },
  {
   "cell_type": "markdown",
   "metadata": {},
   "source": [
    "<div class='q_yellow'><b>1.11</b> For a particular model, would you expect stochastic gradient descent or batch gradient descent to yield more \"noisy\"/\"jumpy\" behavior from the loss function? Which one will take longer to train?</div>"
   ]
  },
  {
   "cell_type": "markdown",
   "metadata": {},
   "source": []
  },
  {
   "cell_type": "markdown",
   "metadata": {},
   "source": [
    "<div class='q_yellow'><b>1.12</b> (True/False) Gradient descent is used exclusively for neural network models.</div>"
   ]
  },
  {
   "cell_type": "markdown",
   "metadata": {},
   "source": []
  },
  {
   "cell_type": "markdown",
   "metadata": {},
   "source": [
    "<div class='q_yellow'><b>1.13</b> What is backpropagation?</div>"
   ]
  },
  {
   "cell_type": "markdown",
   "metadata": {},
   "source": []
  },
  {
   "cell_type": "markdown",
   "metadata": {},
   "source": [
    "<div class='q_yellow'><b>1.14</b> What's an epoch?</div>"
   ]
  },
  {
   "cell_type": "markdown",
   "metadata": {},
   "source": []
  },
  {
   "cell_type": "markdown",
   "metadata": {},
   "source": [
    "<div class='q_yellow'><b>1.15</b> What's a learning rate?</div>"
   ]
  },
  {
   "cell_type": "markdown",
   "metadata": {},
   "source": []
  },
  {
   "cell_type": "markdown",
   "metadata": {},
   "source": [
    "<div class='q_yellow'><b>1.16</b> What is regularization? Why would one want it or not? What are some examples of regularization?</div>"
   ]
  },
  {
   "cell_type": "markdown",
   "metadata": {},
   "source": []
  },
  {
   "cell_type": "markdown",
   "metadata": {},
   "source": [
    "<div class='q_yellow'><b>1.17</b> If you suspect that your model is over-parameterized, which is most likely to help your model effectively use fewer weights? L1, Dropout, or L2?</div>"
   ]
  },
  {
   "cell_type": "markdown",
   "metadata": {},
   "source": []
  },
  {
   "cell_type": "markdown",
   "metadata": {},
   "source": [
    "<div class='q_yellow'><b>1.18</b> What is the Bias/Variance trade-off?</div>"
   ]
  },
  {
   "cell_type": "markdown",
   "metadata": {},
   "source": []
  },
  {
   "cell_type": "markdown",
   "metadata": {},
   "source": [
    "<div class='header_pink'>\n",
    "    \n",
    "# 2. NEURAL NETWORKS\n",
    "\n",
    "</div>"
   ]
  },
  {
   "cell_type": "markdown",
   "metadata": {},
   "source": [
    "<div class='q_pink'><b>2.1</b> Does a loss function have to be differentiable? Why or why not?</div>"
   ]
  },
  {
   "cell_type": "markdown",
   "metadata": {},
   "source": []
  },
  {
   "cell_type": "markdown",
   "metadata": {},
   "source": [
    "<div class='q_pink'><b>2.2</b> Let's say we have a hidden layer of 3 nodes, which are fully-connected to a layer of 2 nodes. Its associated weight matrix $W_{ij}$ is of size $(3,2)$. Ignore the biases for now. When performing backpropagation, what is the size of the gradients for $W_{ij}$?</div>"
   ]
  },
  {
   "cell_type": "markdown",
   "metadata": {},
   "source": []
  },
  {
   "cell_type": "markdown",
   "metadata": {},
   "source": [
    "<div class='q_pink'><b>2.3</b> During backpropagation, do we take the partial derivatives through the activation functions, too? Why or why not?</div>"
   ]
  },
  {
   "cell_type": "markdown",
   "metadata": {},
   "source": []
  },
  {
   "cell_type": "markdown",
   "metadata": {},
   "source": [
    "<div class='q_pink'><b>2.4</b> What are activation functions? Give some examples.</div>"
   ]
  },
  {
   "cell_type": "markdown",
   "metadata": {},
   "source": []
  },
  {
   "cell_type": "markdown",
   "metadata": {},
   "source": [
    "<div class='q_pink'><b>2.5</b> What benefit do we get from using activation functions? <b>HINT:</b> What would happen if one made a \"dummy\" activation function that was simply the identity function: $f(x) = x$</div>"
   ]
  },
  {
   "cell_type": "markdown",
   "metadata": {},
   "source": []
  },
  {
   "cell_type": "markdown",
   "metadata": {},
   "source": [
    "<div class='q_pink'><b>2.6</b> Let's say we are interested in a classification task of trying to predict if any particular input is one of 3 categories. What activation function should we use for our final layer: Sigmoid, softmax, ReLu, Tanh, or should we try all of them?</div>"
   ]
  },
  {
   "cell_type": "markdown",
   "metadata": {},
   "source": []
  },
  {
   "cell_type": "markdown",
   "metadata": {},
   "source": [
    "<div class='q_pink'><b>2.7</b> Why should we care about how our weights are initialized? Can we initialize all weights to be the same as one another?</div>"
   ]
  },
  {
   "cell_type": "markdown",
   "metadata": {},
   "source": []
  },
  {
   "cell_type": "markdown",
   "metadata": {},
   "source": [
    "<div class='q_pink'><b>2.8</b> If the magnitude of our networks' weights all tend to be small and close to zero, would this effectively make our network more linear or non-linear? What if our weights tended to have higher magnitude?</div>"
   ]
  },
  {
   "cell_type": "markdown",
   "metadata": {},
   "source": []
  },
  {
   "cell_type": "markdown",
   "metadata": {},
   "source": [
    "<div class='q_pink'><b>2.9</b> Neural networks are considered to be a universal function approximator. Why is this, and what does it mean?</div>"
   ]
  },
  {
   "cell_type": "markdown",
   "metadata": {},
   "source": []
  },
  {
   "cell_type": "markdown",
   "metadata": {},
   "source": [
    "<div class='q_pink'><b>2.10</b> Say we have a neural network with 4 input neurons, 1 hidden layer, and 4 output neurons. Our input layer is one-hot encoded, whereby the inputs will always be one of: 0001, 0010, 0100, or 1000. Each distinct input needs to learn to produce one distinct output. There should be exactly four options for outputs: 0001, 0010, 0100, and 1000.\n",
    "    \n",
    "What is the <b>minimal</b> number of hidden neurons needed to guarantee that our network can perfectly learn this mapping? What if we changed our inputs and outputs to being 8 nodes?</div>"
   ]
  },
  {
   "cell_type": "markdown",
   "metadata": {},
   "source": []
  },
  {
   "cell_type": "markdown",
   "metadata": {},
   "source": [
    "<div class='header_green'>\n",
    "    \n",
    "# 3. PROGRAMMING ENVIRONMENT\n",
    "\n",
    "</div>"
   ]
  },
  {
   "cell_type": "markdown",
   "metadata": {},
   "source": [
    "## EXPECTATIONS\n",
    "\n",
    "Solid programming experience, not necessarily in Python, is a prerequisite for this class. You must use `PyTorch` or `TensorFlow` for your homework assignments. If you are unfamiliar with both of these, you are responsible for becoming familiar with one of them outside of class time. We recommend `PyTorch`, which will be our framework of choice; when we provide sample code and helper code to get you started on homework assignments, our code will use `PyTorch`.\n",
    "\n",
    "## NOTEBOOKS\n",
    "Homework assignments will be conducted using Jupyter Notebooks, just like this one, and they will be distributed via Canvas. You will make use of many libraries, such as TensorFlow or PyTorch. Use this opportunity now to ensure that you have properly set up a programming environment. We **strongly recommend using virtual environments. We cannot stress this enough**.\n",
    "\n",
    "Isolating your projects inside specific environments helps you manage software dependencies, allowing you to have different versions of packages in each environment. This is way easier than having to make sure all installed packages are compatible across all your projects. This way you can recover from serious mess-ups by deleting an environment and not having to worry about how it affects your entire system.\n",
    " \n",
    "The two most popular tools for setting up environments are:\n",
    "\n",
    "- `conda` (a package and environment manager) \n",
    "- `pip` (a Python package manager) with `virtualenv` (a tool for creating environments)\n",
    "\n",
    "We recommend using `conda` package installation and environments. `conda` installs packages from the Anaconda Repository and Anaconda Cloud, whereas `pip` installs packages from PyPI. Even if you are using `conda` as your primary package installer and are inside a `conda` environment, you can still use `pip install` for those rare packages that are not included in the `conda` ecosystem. \n",
    "\n",
    "See here for more details on how to manage [Conda Environments](https://docs.conda.io/projects/conda/en/latest/user-guide/tasks/manage-environments.html).\n",
    "\n",
    "<br>\n",
    "\n",
    "<div class='q_green'><b>3.1:</b> Within your terminal on your local machine, create a new virtualenv for this course, which will contain all libraries that you install.</div>\n",
    "\n",
    "## LIBRARIES\n",
    "Now is a good time to install:\n",
    "- Python 3.5 or above\n",
    "- [PyTorch](https://pytorch.org/): a deep learning framework for representing complicated ML algorithms and executing them in any platform, from a phone to a distributed system using GPUs. Developed by Facebook. \n",
    "- [TensorFlow](https://www.tensorflow.org): essentially identical to TensorFlow in terms of what it allows you to do. Developed by Google.\n",
    "- [Keras](https://keras.io/): a high-level API used for fast prototyping, advanced research, and production. You may use `tf.keras` which is TensorFlow's implementation of the Keras API.\n",
    "\n",
    "**BACKGROUND INFO:** TensorFlow was created in 2015, before PyTorch was developed, and it quickly became the most popular deep learning framework. However, it was a bit messy and complicated to create certain architectures, namely due to its lack of support for dynamic computational graphs. That is, one had to create static/stateful graphs to represent the flow of data. It had a fairly steep learning curve, yet was arguably the best package available at the time (there were many alternatives like Theano, Caffe, Torch (for Lua, C, C++), Deeplearning4j, etc). Quickly thereafter, PyTorch was released, and it offered improvements in this area. PyTorch quickly became the most popular deep learning framework for _research_ code, as one needs to quickly prototype models and get experimental results. TensorFlow was still popular, too, especially in commercial applications.\n",
    "\n",
    "In 2019, TensorFlow 2.0 was released, which leveled the playing field. That is, TensorFlow and PyTorch became effectively equal to each other in terms of ease-of-use with its abstract representations. Yet, presently, the trend is continuing, whereby for _research_ and _academic_ code, PyTorch is preferred slightly more often. TensorFlow is still great for such, and it's preferred slightly more often for _commercial_ applications.\n",
    "\n",
    "You can see a [historical comparison of deep learning frameworks here](https://en.wikipedia.org/wiki/Comparison_of_deep-learning_software). \n",
    "\n",
    "[Installation instructions for PyTorch are here](https://pytorch.org/get-started/locally/).\n",
    "\n",
    "If your local machine has a GPU: (1) you are very fortunate; (2) you should install the GPU version of PyTorch or TensorFlow (e.g., w/ CUDA drivers)."
   ]
  },
  {
   "cell_type": "markdown",
   "metadata": {},
   "source": [
    "<div class='q_green'><b>3.2:</b> Within your virtual environment on your terminal, install TensorFlow, Keras, and PyTorch (using `pip` or `conda`). Then, run the cells below to ensure you've successfully installed them.</div>"
   ]
  },
  {
   "cell_type": "code",
   "execution_count": 2,
   "metadata": {},
   "outputs": [],
   "source": [
    "import tensorflow as tf\n",
    "import torch\n",
    "from torch import nn"
   ]
  },
  {
   "cell_type": "code",
   "execution_count": 3,
   "metadata": {},
   "outputs": [
    {
     "name": "stdout",
     "output_type": "stream",
     "text": [
      "TF version: 2.5.0\n",
      "TF Keras version: 2.5.0\n",
      "PyTorch version: 1.9.0\n"
     ]
    }
   ],
   "source": [
    "print(\"TF version:\", tf.__version__)  # you should see >= 2.5.0\n",
    "print(\"TF Keras version:\", tf.keras.__version__) # you should see >= 2.5.0\n",
    "print(\"PyTorch version:\", torch.__version__) # you should see >= 1.9.0"
   ]
  },
  {
   "cell_type": "markdown",
   "metadata": {},
   "source": [
    "<div class='q_green'><b>(optional) 3.3:</b> Work through each section of the <a href=\"https://pytorch.org/tutorials/beginner/basics/intro.html\">Introduction to PyTorch</a>, from \"Learn the Basics\" to \"Save and Load the Model\"</div>"
   ]
  },
  {
   "cell_type": "markdown",
   "metadata": {},
   "source": [
    "<div class='header_blue'>\n",
    "    \n",
    "# 4. PROGRAMMING BASICS\n",
    "\n",
    "</div>"
   ]
  },
  {
   "cell_type": "markdown",
   "metadata": {},
   "source": [
    "You should have a strong foundation in programming, data structures, and algorithms. Let's write some basic code to warm up!"
   ]
  },
  {
   "cell_type": "markdown",
   "metadata": {},
   "source": [
    "<div class='q_blue'><b>4.1: Fibonacci</b>\n",
    "\n",
    "Write a function to calculate the first `num` Fibonacci Numbers (`num` will be an integer), and put them in a list. Then **run** your function to create the list for `num=50`. Use `assert` to check if the `num` passed in the argument of the function is an integer and throw an error if it's not.\n",
    "\n",
    "**Note:** we encourage you to write this from scratch. Create a Python list with the first 2 Fibonacci Numbers by hardcoding them: [0, 1], and then append the rest of the elements of the list by using the previous too.\n",
    "    \n",
    "You **may not** use `numpy`; use Python lists.\n",
    "\n",
    "</div>"
   ]
  },
  {
   "cell_type": "code",
   "execution_count": 15,
   "metadata": {},
   "outputs": [],
   "source": [
    "def fib(num:int):\n",
    "    \"\"\"(This is called a docstring, and it contains info about the function)\n",
    "       This function calculates the first `num` numbers in the \n",
    "       Fibonacci sequence.\n",
    "       ----\n",
    "       Arguments: the number of numbers to create\n",
    "       ----\n",
    "       Returns: a list containing those numbers\n",
    "    \"\"\"\n",
    "    # your code here\n",
    "\n",
    "    # end of your code here \n",
    "    return fib_list"
   ]
  },
  {
   "cell_type": "markdown",
   "metadata": {},
   "source": [
    "<div class='q_blue'><b>4.2:</b> Generate the first 50 Fibonacci numbers and name it `fibonaccis`. </div>"
   ]
  },
  {
   "cell_type": "code",
   "execution_count": null,
   "metadata": {},
   "outputs": [],
   "source": [
    "fibonaccis = # your code here"
   ]
  },
  {
   "cell_type": "markdown",
   "metadata": {},
   "source": [
    "<div class='q_blue'><b>4.3:</b> Using <a href=\"https://docs.python.org/3/tutorial/introduction.html#lists\">list slicing</a>, reverse the list.</div>"
   ]
  },
  {
   "cell_type": "code",
   "execution_count": 6,
   "metadata": {},
   "outputs": [],
   "source": [
    "fibonaccis = # your code here"
   ]
  },
  {
   "cell_type": "markdown",
   "metadata": {},
   "source": [
    "<div class='q_blue'><b>4.4: Python lists:</b> Print to the screen the 45𝑡ℎ item in this reversed list. To be clear, there is no \"zero-th\" item. The first item is truly the $1^{st}$ item in the reversed list. Your code should print 701408733</div>"
   ]
  },
  {
   "cell_type": "code",
   "execution_count": null,
   "metadata": {},
   "outputs": [],
   "source": [
    "# your code here"
   ]
  },
  {
   "cell_type": "markdown",
   "metadata": {},
   "source": [
    "<div class='q_blue'><b>4.5: Find items:</b> Is the number 2891827 in the list? If our list had 1 million items in it, instead of only 50, would your message for searching differ? Using big O notation, what is the average run-time complexity of your method for searching?\n",
    "    \n",
    "<b>Extra Credit Knowledge:</b> Are you aware of how Python manages lists, \"under the hood\"? In other words, what is the big O of naively looking to see if a number exists in a Python list?</div>"
   ]
  },
  {
   "cell_type": "code",
   "execution_count": 8,
   "metadata": {},
   "outputs": [],
   "source": [
    "# your code here"
   ]
  },
  {
   "cell_type": "markdown",
   "metadata": {},
   "source": [
    "<hr style=\"height:2pt\">"
   ]
  },
  {
   "cell_type": "markdown",
   "metadata": {},
   "source": [
    "<div class='q_blue'><b>4.6: Understanding functions:</b> If we were to run the cell below, what number would be printed to the screen? Does this result suggest that Python might be pass-by-reference or pass-by-value?</div>"
   ]
  },
  {
   "cell_type": "markdown",
   "metadata": {},
   "source": []
  },
  {
   "cell_type": "markdown",
   "metadata": {},
   "source": [
    "<div class='q_blue'><b>4.7: Understanding functions:</b> If we were to uncomment and run the cell below, what number would be printed to the screen?</div>"
   ]
  },
  {
   "cell_type": "code",
   "execution_count": null,
   "metadata": {},
   "outputs": [],
   "source": [
    "'''\n",
    "def func(num: int):\n",
    "    num = num*2\n",
    "    \n",
    "num = 3\n",
    "func(num)\n",
    "print(num)\n",
    "'''"
   ]
  },
  {
   "cell_type": "markdown",
   "metadata": {},
   "source": [
    "<div class='q_blue'><b>4.8: Understanding functions:</b> Would you say Python is pass-by-reference, pass-by-value, or neither? If you are unsure, read <a href=\"https://robertheaton.com/2014/02/09/pythons-pass-by-object-reference-as-explained-by-philip-k-dick/\">this webpage.</a></div>"
   ]
  },
  {
   "cell_type": "markdown",
   "metadata": {},
   "source": []
  },
  {
   "cell_type": "markdown",
   "metadata": {},
   "source": [
    "<div class='q_blue'><b>4.9: Finding a pair</b>\n",
    "    \n",
    "Write a function `pair_exists()` that takes two items as input:\n",
    "- `nums`: a list (or other data structure)\n",
    "- `target`: an integer\n",
    "\n",
    "The function should return **True** if any two numbers within `nums` sum up to `target`. Otherwise, return **False**. Note, you are not restricted to using a list (e.g., could use a Set or Hash/Dictionary structure). Think about the tradeoffs of transforming `random_numbers` to other data structures."
   ]
  },
  {
   "cell_type": "markdown",
   "metadata": {},
   "source": [
    "First, run the cell below to generate 10,000 random numbers."
   ]
  },
  {
   "cell_type": "code",
   "execution_count": 10,
   "metadata": {},
   "outputs": [],
   "source": [
    "import random\n",
    "random.seed(a=13, version=2)\n",
    "random_numbers = random.sample(range(1000000), k=10000)"
   ]
  },
  {
   "cell_type": "markdown",
   "metadata": {},
   "source": [
    "Now, as the question states, finish writing the `pair_exists()` function."
   ]
  },
  {
   "cell_type": "code",
   "execution_count": 11,
   "metadata": {},
   "outputs": [],
   "source": [
    "def pair_exists(nums, target):\n",
    "    # your code here\n",
    "\n",
    "    # end of your code here "
   ]
  },
  {
   "cell_type": "markdown",
   "metadata": {},
   "source": [
    "Run the cell below to verify the correctness of your code; the cell should print True and False."
   ]
  },
  {
   "cell_type": "code",
   "execution_count": null,
   "metadata": {},
   "outputs": [],
   "source": [
    "print(pair_exists(random_numbers, 38109)) # SHOULD RETURN TRUE\n",
    "print(pair_exists(random_numbers, 13538)) # SHOULD RETURN FALSE"
   ]
  },
  {
   "cell_type": "markdown",
   "metadata": {},
   "source": [
    "As one last stress test, run the cell below and verify that you correctly return False. **HINT:** 890593 should exist in `random_numbers` just once, not twice."
   ]
  },
  {
   "cell_type": "code",
   "execution_count": null,
   "metadata": {},
   "outputs": [],
   "source": [
    "print(pair_exists(random_numbers, 1781186))"
   ]
  }
 ],
 "metadata": {
  "kernel_loop": {
   "byte_size": "82791"
  },
  "kernelspec": {
   "display_name": "Python 3",
   "language": "python",
   "name": "python3"
  },
  "language_info": {
   "codemirror_mode": {
    "name": "ipython",
    "version": 3
   },
   "file_extension": ".py",
   "mimetype": "text/x-python",
   "name": "python",
   "nbconvert_exporter": "python",
   "pygments_lexer": "ipython3",
   "version": "3.7.4"
  }
 },
 "nbformat": 4,
 "nbformat_minor": 2
}
